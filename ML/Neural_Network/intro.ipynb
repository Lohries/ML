{
 "cells": [
  {
   "cell_type": "markdown",
   "metadata": {},
   "source": [
    "**1. Basic**"
   ]
  },
  {
   "cell_type": "code",
   "execution_count": 4,
   "metadata": {},
   "outputs": [
    {
     "name": "stdout",
     "output_type": "stream",
     "text": [
      "28.5\n"
     ]
    }
   ],
   "source": [
    "input =  [1.5, 3.5, 8.9, 10.5, 7.8]\n",
    "weights = [0.5, 1.5, 0.9, 0.5, 0.8]\n",
    "bias = 3\n",
    "\n",
    "output = input[0] * weights[0] + input[1] * weights[1] + input[2] * weights[2] + input[3] * weights[3] + input[4] * weights[4] + bias\n",
    "\n",
    "print(output)"
   ]
  },
  {
   "cell_type": "code",
   "execution_count": 5,
   "metadata": {},
   "outputs": [
    {
     "name": "stdout",
     "output_type": "stream",
     "text": [
      "[28.5, 79.89999999999999, 54.205]\n"
     ]
    }
   ],
   "source": [
    "input =  [1.5, 3.5, 8.9, 10.5, 7.8]\n",
    "weights1 = [0.5, 1.5, 0.9, 0.5, 0.8]\n",
    "weights2 = [1.5, 1.5, 1.9, 4.5, 0.8]\n",
    "weights3 = [0.25, -1.5, -0.9, 0.5, 7.8]\n",
    "bias1 = 3\n",
    "bias2 = 2\n",
    "bias3 = 1\n",
    "output = [input[0] * weights1[0] + input[1] * weights1[1] + input[2] * weights1[2] + input[3] * weights1[3] + input[4] * weights1[4] + bias1,\n",
    "          input[0] * weights2[0] + input[1] * weights2[1] + input[2] * weights2[2] + input[3] * weights2[3] + input[4] * weights2[4] + bias2,\n",
    "          input[0] * weights3[0] + input[1] * weights3[1] + input[2] * weights3[2] + input[3] * weights3[3] + input[4] * weights3[4] + bias3]\n",
    "\n",
    "print(output)"
   ]
  },
  {
   "cell_type": "code",
   "execution_count": 6,
   "metadata": {},
   "outputs": [
    {
     "name": "stdout",
     "output_type": "stream",
     "text": [
      "[28.5, 79.89999999999999, 54.205]\n"
     ]
    }
   ],
   "source": [
    "input =  [1.5, 3.5, 8.9, 10.5, 7.8]\n",
    "          \n",
    "weight = [[0.5, 1.5, 0.9, 0.5, 0.8],\n",
    "          [1.5, 1.5, 1.9, 4.5, 0.8],\n",
    "          [0.25, -1.5, -0.9, 0.5, 7.8]]\n",
    "\n",
    "bias = [3, 2, 1]\n",
    "\n",
    "layer_output = []\n",
    "for neuron_weight, neuron_bias in zip(weight, bias):\n",
    "    neuron_output = 0\n",
    "    for n_input, weight in zip(input, neuron_weight):\n",
    "        neuron_output += n_input*weight\n",
    "    neuron_output += neuron_bias\n",
    "    layer_output.append(neuron_output)\n",
    "print(layer_output)"
   ]
  },
  {
   "cell_type": "markdown",
   "metadata": {},
   "source": [
    "**2. Produto Escalar**"
   ]
  },
  {
   "cell_type": "code",
   "execution_count": 8,
   "metadata": {},
   "outputs": [
    {
     "name": "stdout",
     "output_type": "stream",
     "text": [
      "25.499999999999996\n"
     ]
    }
   ],
   "source": [
    "import numpy as np \n",
    "input =  [1.5, 3.5, 8.9, 10.5, 7.8]\n",
    "weight = [0.5, 1.5, 0.9, 0.5, 0.8]\n",
    "output = np.dot(input, weight)\n",
    "print(output)"
   ]
  },
  {
   "cell_type": "code",
   "execution_count": 9,
   "metadata": {},
   "outputs": [
    {
     "name": "stdout",
     "output_type": "stream",
     "text": [
      "[[ 20.62   79.02  -12.975]\n",
      " [ 12.02   31.42  -73.825]\n",
      " [ 21.7    40.1    51.405]]\n"
     ]
    }
   ],
   "source": [
    "input =  [[1.5, 3.5, 8.9, 10.5, -0.8],\n",
    "         [2.5, 4.5, 8.9, 0.5, -7.8],\n",
    "         [3.5, 3.5, 6.9, 0.5, 7.8]]\n",
    "weight = [[0.5, 1.5, 0.9, 0.5, 0.8],\n",
    "          [1.5, 1.5, 1.9, 4.5, 0.8],\n",
    "          [0.25, -1.5, -0.9, 0.5, 7.8]]\n",
    "bias = [2, 8, 0.9]\n",
    "\n",
    "output = np.dot(input, np.array(weight).T) + bias\n",
    "print(output)"
   ]
  }
 ],
 "metadata": {
  "kernelspec": {
   "display_name": "Python 3",
   "language": "python",
   "name": "python3"
  },
  "language_info": {
   "codemirror_mode": {
    "name": "ipython",
    "version": 3
   },
   "file_extension": ".py",
   "mimetype": "text/x-python",
   "name": "python",
   "nbconvert_exporter": "python",
   "pygments_lexer": "ipython3",
   "version": "3.11.4"
  },
  "orig_nbformat": 4
 },
 "nbformat": 4,
 "nbformat_minor": 2
}
