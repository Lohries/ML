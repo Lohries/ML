{
 "cells": [
  {
   "cell_type": "markdown",
   "metadata": {},
   "source": [
    "**1. Basic**"
   ]
  },
  {
   "cell_type": "code",
   "execution_count": null,
   "metadata": {},
   "outputs": [],
   "source": [
    "input =  [1.5, 3.5, 8.9, 10.5, 7.8]\n",
    "weights = [0.5, 1.5, 0.9, 0.5, 0.8]\n",
    "bias = 3\n",
    "\n",
    "output = input[0] * weights[0] + input[1] * weights[1] + input[2] * weights[2] + input[3] * weights[3] + input[4] * weights[4] + bias\n",
    "\n",
    "print(output)"
   ]
  }
 ],
 "metadata": {
  "language_info": {
   "name": "python"
  },
  "orig_nbformat": 4
 },
 "nbformat": 4,
 "nbformat_minor": 2
}
