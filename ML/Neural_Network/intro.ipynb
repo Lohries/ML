{
 "cells": [
  {
   "cell_type": "markdown",
   "metadata": {},
   "source": [
    "**1. Basic**"
   ]
  },
  {
   "cell_type": "code",
   "execution_count": 1,
   "metadata": {},
   "outputs": [
    {
     "name": "stdout",
     "output_type": "stream",
     "text": [
      "28.5\n"
     ]
    }
   ],
   "source": [
    "input =  [1.5, 3.5, 8.9, 10.5, 7.8]\n",
    "weights = [0.5, 1.5, 0.9, 0.5, 0.8]\n",
    "bias = 3\n",
    "\n",
    "output = input[0] * weights[0] + input[1] * weights[1] + input[2] * weights[2] + input[3] * weights[3] + input[4] * weights[4] + bias\n",
    "\n",
    "print(output)"
   ]
  },
  {
   "cell_type": "code",
   "execution_count": null,
   "metadata": {},
   "outputs": [],
   "source": [
    "input =  [1.5, 3.5, 8.9, 10.5, 7.8]\n",
    "weights1 = [0.5, 1.5, 0.9, 0.5, 0.8]\n",
    "weights2 = [1.5, 1.5, 1.9, 4.5, 0.8]\n",
    "weights3 = [0.25, -1.5, -0.9, 0.5, 7.8]\n",
    "bias1 = 3\n",
    "bias2 = 2\n",
    "bias3 = 1\n",
    "output = [input[0] * weights1[0] + input[1] * weights1[1] + input[2] * weights1[2] + input[3] * weights1[3] + input[4] * weights1[4] + bias1,\n",
    "          input[0] * weights2[0] + input[1] * weights2[1] + input[2] * weights2[2] + input[3] * weights2[3] + input[4] * weights2[4] + bias2,\n",
    "          input[0] * weights3[0] + input[1] * weights3[1] + input[2] * weights3[2] + input[3] * weights3[3] + input[4] * weights3[4] + bias3]\n",
    "\n",
    "print(output)"
   ]
  }
 ],
 "metadata": {
  "kernelspec": {
   "display_name": "Python 3",
   "language": "python",
   "name": "python3"
  },
  "language_info": {
   "codemirror_mode": {
    "name": "ipython",
    "version": 3
   },
   "file_extension": ".py",
   "mimetype": "text/x-python",
   "name": "python",
   "nbconvert_exporter": "python",
   "pygments_lexer": "ipython3",
   "version": "3.11.4"
  },
  "orig_nbformat": 4
 },
 "nbformat": 4,
 "nbformat_minor": 2
}
