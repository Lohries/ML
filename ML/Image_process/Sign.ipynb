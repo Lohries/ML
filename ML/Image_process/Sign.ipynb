{
 "cells": [
  {
   "cell_type": "markdown",
   "metadata": {},
   "source": [
    "**1. Imports**"
   ]
  },
  {
   "cell_type": "code",
   "execution_count": 6,
   "metadata": {},
   "outputs": [],
   "source": [
    "import numpy as np\n",
    "from tensorflow import keras\n",
    "from keras.models import Sequential\n",
    "from keras.layers import Dense, Flatten\n",
    "from keras.utils import to_categorical\n",
    "import pandas as pd\n",
    "import cv2\n",
    "import os \n"
   ]
  },
  {
   "cell_type": "markdown",
   "metadata": {},
   "source": [
    "**2. Data Visualization**"
   ]
  },
  {
   "cell_type": "code",
   "execution_count": 7,
   "metadata": {},
   "outputs": [],
   "source": [
    "csv_path = '/Users/lohries/Downloads/Placas/Train.csv'\n",
    "images_path = '/Users/lohries/Downloads/Placas'\n",
    "train_images = []\n",
    "data = pd.read_csv(csv_path)"
   ]
  },
  {
   "cell_type": "code",
   "execution_count": null,
   "metadata": {},
   "outputs": [],
   "source": [
    "for index, row in data.iterrows():\n",
    "    images_path = os.path.join(images_path, row[\"Path\"])\n",
    "    if os.path.exists(images_path) and images_path.endswith(\".png\"):\n",
    "        try:\n",
    "            image = cv2.imread(images_path)\n",
    "            if image is not None:\n",
    "                image = cv2.cvtColor(image, cv2.COLOR_BGR2RGB)\n",
    "                train_images.append(image)\n",
    "            else:\n",
    "                print(\"Erro na encontra do path\")\n",
    "        except Exception as e:\n",
    "            print(\"Erro em processar imagem\")\n",
    "\n",
    "    else:\n",
    "        print(\"Imagem nao encontrada\")\n"
   ]
  },
  {
   "cell_type": "code",
   "execution_count": 8,
   "metadata": {},
   "outputs": [
    {
     "name": "stdout",
     "output_type": "stream",
     "text": [
      "[20 20 20 ... 42 42 42]\n"
     ]
    }
   ],
   "source": [
    "train_labels = data[\"ClassId\"].values\n",
    "print(train_labels)"
   ]
  },
  {
   "cell_type": "code",
   "execution_count": 9,
   "metadata": {},
   "outputs": [
    {
     "name": "stdout",
     "output_type": "stream",
     "text": [
      "[16  1 38 ...  6  7 10]\n"
     ]
    }
   ],
   "source": [
    "csv_path = '/Users/lohries/Downloads/Placas/Test.csv'\n",
    "data = pd.read_csv(csv_path)\n",
    "test_labels = data[\"ClassId\"].values\n",
    "print(test_labels)"
   ]
  }
 ],
 "metadata": {
  "kernelspec": {
   "display_name": "Python 3",
   "language": "python",
   "name": "python3"
  },
  "language_info": {
   "codemirror_mode": {
    "name": "ipython",
    "version": 3
   },
   "file_extension": ".py",
   "mimetype": "text/x-python",
   "name": "python",
   "nbconvert_exporter": "python",
   "pygments_lexer": "ipython3",
   "version": "3.11.4"
  },
  "orig_nbformat": 4
 },
 "nbformat": 4,
 "nbformat_minor": 2
}
